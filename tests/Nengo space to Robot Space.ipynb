{
 "cells": [
  {
   "cell_type": "code",
   "execution_count": 12,
   "metadata": {
    "collapsed": true
   },
   "outputs": [],
   "source": [
    "from scipy.interpolate import interp1d\n",
    "import numpy as np\n",
    "import matplotlib.pyplot as plt\n",
    "%matplotlib inline\n",
    "import nengo\n",
    "import nengo_spinnaker"
   ]
  },
  {
   "cell_type": "code",
   "execution_count": 6,
   "metadata": {
    "collapsed": false
   },
   "outputs": [
    {
     "name": "stdout",
     "output_type": "stream",
     "text": [
      "51.0\n",
      "53.45\n",
      "55.9\n"
     ]
    }
   ],
   "source": [
    "interpolation = interp1d([-1,1], [51, 100])\n",
    "print interpolation(-1.0)\n",
    "print interpolation(-0.9)\n",
    "print interpolation(-0.8)"
   ]
  },
  {
   "cell_type": "code",
   "execution_count": 9,
   "metadata": {
    "collapsed": false
   },
   "outputs": [
    {
     "name": "stdout",
     "output_type": "stream",
     "text": [
      "2.45\n"
     ]
    }
   ],
   "source": [
    "print interpolation(-0.9) - interpolation(-1.0)"
   ]
  },
  {
   "cell_type": "code",
   "execution_count": 32,
   "metadata": {
    "collapsed": false
   },
   "outputs": [
    {
     "name": "stdout",
     "output_type": "stream",
     "text": [
      "-1.0\n",
      "-0.959183673469\n",
      "-0.918367346939\n",
      "-0.9\n",
      "-0.877551020408\n",
      "0.0408163265306\n"
     ]
    }
   ],
   "source": [
    "interpolation = interp1d([51, 100], [-1,1])\n",
    "print interpolation(51)\n",
    "print interpolation(52)\n",
    "print interpolation(53)\n",
    "print interpolation(53.45)\n",
    "print interpolation(54)\n",
    "print interpolation(52) - interpolation(51)"
   ]
  },
  {
   "cell_type": "code",
   "execution_count": 23,
   "metadata": {
    "collapsed": false
   },
   "outputs": [],
   "source": [
    "model = nengo.Network(\"Value spread\", seed = 5)\n",
    "with model:\n",
    "    inn = nengo.Node([0])\n",
    "    pop = nengo.Ensemble(100, 1)\n",
    "    outn= nengo.Node(size_in=1)\n",
    "    \n",
    "    nengo.Connection(inn, pop)\n",
    "    nengo.Connection(pop, outn)\n",
    "    \n",
    "    out_probe = nengo.Probe(outn)"
   ]
  },
  {
   "cell_type": "code",
   "execution_count": 24,
   "metadata": {
    "collapsed": true
   },
   "outputs": [],
   "source": [
    "sim = nengo_spinnaker.Simulator(model)"
   ]
  },
  {
   "cell_type": "code",
   "execution_count": 25,
   "metadata": {
    "collapsed": true
   },
   "outputs": [],
   "source": [
    "with sim:\n",
    "    sim.run(5)"
   ]
  },
  {
   "cell_type": "code",
   "execution_count": 26,
   "metadata": {
    "collapsed": false
   },
   "outputs": [
    {
     "data": {
      "text/plain": [
       "[<matplotlib.lines.Line2D at 0x7fec94a8f490>]"
      ]
     },
     "execution_count": 26,
     "metadata": {},
     "output_type": "execute_result"
    },
    {
     "data": {
      "image/png": "[encoded data removed]",
      "text/plain": [
       "<matplotlib.figure.Figure at 0x7fec951535d0>"
      ]
     },
     "metadata": {},
     "output_type": "display_data"
    }
   ],
   "source": [
    "plt.plot(sim.trange(), sim.data[out_probe])"
   ]
  },
  {
   "cell_type": "code",
   "execution_count": 27,
   "metadata": {
    "collapsed": false
   },
   "outputs": [
    {
     "name": "stdout",
     "output_type": "stream",
     "text": [
      "-0.000152789306641 0.0315738668923 0.000996909070533\n"
     ]
    }
   ],
   "source": [
    "values = sim.data[out_probe]\n",
    "mean = np.mean(values)\n",
    "std = np.std(values)\n",
    "var = np.var(values)\n",
    "\n",
    "print mean, std, var"
   ]
  },
  {
   "cell_type": "code",
   "execution_count": 28,
   "metadata": {
    "collapsed": false
   },
   "outputs": [
    {
     "name": "stdout",
     "output_type": "stream",
     "text": [
      "-0.00693669433594 0.00152092844335 2.31322332978e-06\n"
     ]
    }
   ],
   "source": [
    "model = nengo.Network(\"Value spread\", seed = 5)\n",
    "with model:\n",
    "    inn = nengo.Node([0])\n",
    "    pop = nengo.Ensemble(100, 1)\n",
    "    outn= nengo.Node(size_in=1)\n",
    "    \n",
    "    nengo.Connection(inn, pop)\n",
    "    nengo.Connection(pop, outn, synapse=0.5)\n",
    "    \n",
    "    out_probe = nengo.Probe(outn)\n",
    "    \n",
    "sim = nengo_spinnaker.Simulator(model)\n",
    "with sim:\n",
    "    sim.run(5)\n",
    "values = sim.data[out_probe]\n",
    "mean = np.mean(values)\n",
    "std = np.std(values)\n",
    "var = np.var(values)\n",
    "\n",
    "print mean, std, var"
   ]
  },
  {
   "cell_type": "code",
   "execution_count": 29,
   "metadata": {
    "collapsed": false
   },
   "outputs": [
    {
     "name": "stdout",
     "output_type": "stream",
     "text": [
      "-0.0121266723633 0.00364986149918 1.33214889632e-05\n"
     ]
    }
   ],
   "source": [
    "model = nengo.Network(\"Value spread\", seed = 5)\n",
    "with model:\n",
    "    inn = nengo.Node([0])\n",
    "    pop = nengo.Ensemble(100, 1)\n",
    "    outn= nengo.Node(size_in=1)\n",
    "    \n",
    "    nengo.Connection(inn, pop)\n",
    "    nengo.Connection(pop, outn, synapse=1)\n",
    "    \n",
    "    out_probe = nengo.Probe(outn)\n",
    "    \n",
    "sim = nengo_spinnaker.Simulator(model)\n",
    "with sim:\n",
    "    sim.run(5)\n",
    "values = sim.data[out_probe]\n",
    "mean = np.mean(values)\n",
    "std = np.std(values)\n",
    "var = np.var(values)\n",
    "\n",
    "print mean, std, var"
   ]
  },
  {
   "cell_type": "code",
   "execution_count": 30,
   "metadata": {
    "collapsed": false
   },
   "outputs": [
    {
     "name": "stdout",
     "output_type": "stream",
     "text": [
      "-0.00157026977539 0.0016278433004 2.64987381067e-06\n"
     ]
    }
   ],
   "source": [
    "model = nengo.Network(\"Value spread\", seed = 5)\n",
    "with model:\n",
    "    inn = nengo.Node([0])\n",
    "    pop = nengo.Ensemble(100, 1)\n",
    "    outn= nengo.Node(size_in=1)\n",
    "    \n",
    "    nengo.Connection(inn, pop)\n",
    "    nengo.Connection(pop, outn, synapse=0.1)\n",
    "    \n",
    "    out_probe = nengo.Probe(outn)\n",
    "    \n",
    "sim = nengo_spinnaker.Simulator(model)\n",
    "with sim:\n",
    "    sim.run(5)\n",
    "values = sim.data[out_probe]\n",
    "mean = np.mean(values)\n",
    "std = np.std(values)\n",
    "var = np.var(values)\n",
    "\n",
    "print mean, std, var"
   ]
  },
  {
   "cell_type": "code",
   "execution_count": 33,
   "metadata": {
    "collapsed": false
   },
   "outputs": [
    {
     "name": "stdout",
     "output_type": "stream",
     "text": [
      "-0.00693669433594 0.00152092844335 2.31322332978e-06 0.000244140625 -0.00888061523438\n"
     ]
    }
   ],
   "source": [
    "model = nengo.Network(\"Value spread\", seed = 5)\n",
    "with model:\n",
    "    inn = nengo.Node([0])\n",
    "    pop = nengo.Ensemble(100, 1)\n",
    "    outn= nengo.Node(size_in=1)\n",
    "    \n",
    "    nengo.Connection(inn, pop)\n",
    "    nengo.Connection(pop, outn, synapse=0.5)\n",
    "    \n",
    "    out_probe = nengo.Probe(outn)\n",
    "    \n",
    "sim = nengo_spinnaker.Simulator(model)\n",
    "with sim:\n",
    "    sim.run(5)\n",
    "values = sim.data[out_probe]\n",
    "mean = np.mean(values)\n",
    "std = np.std(values)\n",
    "var = np.var(values)\n",
    "maxi = np.max(values)\n",
    "mini = np.min(values)\n",
    "\n",
    "print mean, std, var, maxi, mini"
   ]
  },
  {
   "cell_type": "code",
   "execution_count": 34,
   "metadata": {
    "collapsed": false
   },
   "outputs": [
    {
     "name": "stdout",
     "output_type": "stream",
     "text": [
      "0.00912475585938\n"
     ]
    }
   ],
   "source": [
    "print maxi - mini"
   ]
  },
  {
   "cell_type": "code",
   "execution_count": null,
   "metadata": {
    "collapsed": true
   },
   "outputs": [],
   "source": []
  },
  {
   "cell_type": "code",
   "execution_count": 35,
   "metadata": {
    "collapsed": true
   },
   "outputs": [],
   "source": [
    "interpolation = interp1d([51, 100], [-1,1])"
   ]
  },
  {
   "cell_type": "code",
   "execution_count": 37,
   "metadata": {
    "collapsed": false
   },
   "outputs": [
    {
     "data": {
      "text/plain": [
       "array(-0.020408163265306145)"
      ]
     },
     "execution_count": 37,
     "metadata": {},
     "output_type": "execute_result"
    }
   ],
   "source": [
    "interpolation(75)"
   ]
  },
  {
   "cell_type": "code",
   "execution_count": 38,
   "metadata": {
    "collapsed": false
   },
   "outputs": [
    {
     "data": {
      "text/plain": [
       "array(0.18367346938775508)"
      ]
     },
     "execution_count": 38,
     "metadata": {},
     "output_type": "execute_result"
    }
   ],
   "source": [
    "interpolation(80)"
   ]
  },
  {
   "cell_type": "code",
   "execution_count": 39,
   "metadata": {
    "collapsed": false
   },
   "outputs": [
    {
     "data": {
      "text/plain": [
       "array(0.3877551020408163)"
      ]
     },
     "execution_count": 39,
     "metadata": {},
     "output_type": "execute_result"
    }
   ],
   "source": [
    "interpolation(85)"
   ]
  },
  {
   "cell_type": "code",
   "execution_count": 40,
   "metadata": {
    "collapsed": false
   },
   "outputs": [
    {
     "data": {
      "text/plain": [
       "0.20408163265306123"
      ]
     },
     "execution_count": 40,
     "metadata": {},
     "output_type": "execute_result"
    }
   ],
   "source": [
    "interpolation(80) - interpolation(75)"
   ]
  },
  {
   "cell_type": "code",
   "execution_count": 58,
   "metadata": {
    "collapsed": false
   },
   "outputs": [
    {
     "name": "stdout",
     "output_type": "stream",
     "text": [
      "[False  True  True]\n"
     ]
    }
   ],
   "source": [
    "t = np.abs(np.asarray([0,0,0]) -  np.asarray([0, 0.3, -.21])) > .2\n",
    "print t"
   ]
  },
  {
   "cell_type": "code",
   "execution_count": 53,
   "metadata": {
    "collapsed": false
   },
   "outputs": [
    {
     "data": {
      "text/plain": [
       "True"
      ]
     },
     "execution_count": 53,
     "metadata": {},
     "output_type": "execute_result"
    }
   ],
   "source": [
    "np.any([np.abs(np.asarray([0,0,0]) -  np.asarray([0, 0.3, -.21])) > .2])"
   ]
  },
  {
   "cell_type": "code",
   "execution_count": 59,
   "metadata": {
    "collapsed": true
   },
   "outputs": [],
   "source": [
    "x = [1, 2, 3]\n",
    "y = [-1, -2, -3]"
   ]
  },
  {
   "cell_type": "code",
   "execution_count": 60,
   "metadata": {
    "collapsed": false
   },
   "outputs": [
    {
     "data": {
      "text/plain": [
       "[-1, 2, 3]"
      ]
     },
     "execution_count": 60,
     "metadata": {},
     "output_type": "execute_result"
    }
   ],
   "source": [
    "[x[i] if t[i] else y[i] for i in range(len(t))]"
   ]
  },
  {
   "cell_type": "code",
   "execution_count": null,
   "metadata": {
    "collapsed": true
   },
   "outputs": [],
   "source": []
  }
 ],
 "metadata": {
  "kernelspec": {
   "display_name": "Python 2",
   "language": "python",
   "name": "python2"
  },
  "language_info": {
   "codemirror_mode": {
    "name": "ipython",
    "version": 2
   },
   "file_extension": ".py",
   "mimetype": "text/x-python",
   "name": "python",
   "nbconvert_exporter": "python",
   "pygments_lexer": "ipython2",
   "version": "2.7.6"
  }
 },
 "nbformat": 4,
 "nbformat_minor": 0
}
